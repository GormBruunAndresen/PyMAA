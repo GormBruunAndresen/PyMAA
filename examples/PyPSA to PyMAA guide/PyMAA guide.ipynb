{
 "cells": [
  {
   "cell_type": "markdown",
   "id": "15f0f84f",
   "metadata": {},
   "source": [
    "# PyMAA\n",
    "PyMAA is a python package for performing Modeling All Alternatives (MAA) analysis on linear optimization problems. The methods are applicable for models of any format, but examples are provided for use with the PyPSA energy system modeling framework.\n",
    "\n",
    "### Installing PyMAA\n",
    "This guide assumes you have Anaconda installed. \n",
    "PyMGA is available on pypi. To install PyMGA, follow these steps:\n",
    "1. Open Anaconda Prompt\n",
    "2. Install PyMGA with the command ```pip install PyMAA```\n",
    "3. Installing PyMGA will install all dependent packages.\n",
    "4. A successful install will return <br/>\n",
    "   ```\n",
    "   ...\n",
    "   Successfully built PyMAA\n",
    "   Installing collected packages: PyMAA\n",
    "   Successfully installed PyMAA-0.1.X\n",
    "   ``` \n",
    "5. PyMGA can now be imported as ```import PyMAA```"
   ]
  },
  {
   "cell_type": "markdown",
   "id": "2d9e6151",
   "metadata": {},
   "source": [
    "### PyMAA Limitations\n",
    "Current limitations and known major problems:\n",
    "* To run a PyPSA network with PyMAA, the PyPSA network must have 8760 time snapshots. \n",
    "* PyPSA Networks must be loaded from a .nc file, and cannot be passed as network objects. \n",
    "### PyPSA Examples\n",
    "PyMAA comes with a couple of PyPSA examples in the PyMAA/Examples folder. \n",
    "* The \"3-bus_network\" example contains a very simple PyPSA network, and is a good starting point\n",
    "* The \"island\" example is more complicated, and contains custom constraints passed via extra_functionalities. If you have custom constraints, see this example. "
   ]
  },
  {
   "cell_type": "markdown",
   "id": "8c187021",
   "metadata": {},
   "source": [
    "# GUIDE: Using a PyPSA network with PyMAA\n",
    "Apart from the MAA methods, PyMAA contains examples and useful helper functions for exploring the near-optimal spaces, plotting and more. This following guide will go through a slightly modified version of the 3-bus_network example, as follows:\n",
    "1. Loading the example PyPSA network \"example_3-bus_network.nc\" \n",
    "2. Running and MAA analysis on select network components\n",
    "3. Calculating the Chebyshev center of the near-optimal space\n",
    "4. Sampling the near-optimal space\n",
    "5. Plotting the near-optimal space in a matrix plot representing all dimension combination"
   ]
  },
  {
   "cell_type": "markdown",
   "id": "f7be4d3c",
   "metadata": {},
   "source": [
    "### Importing\n",
    "We import PyMAA and yaml. Solver options are loaded from a ```.yaml``` file. The pypsa network for the analysis is loaded from a ```.nc``` file. Any network passed to PyMAA must be a saved ```.nc``` network, you can't pass PyPSA network object.\n",
    "This part assumes that this notebook is running in the same folder as the \"guide_example_network\" folder, which contains the pypsa network, data and config files. If not, update path."
   ]
  },
  {
   "cell_type": "code",
   "execution_count": 2,
   "id": "10690ba8",
   "metadata": {},
   "outputs": [
    {
     "ename": "ModuleNotFoundError",
     "evalue": "No module named 'PyMAA'",
     "output_type": "error",
     "traceback": [
      "\u001b[1;31m---------------------------------------------------------------------------\u001b[0m",
      "\u001b[1;31mModuleNotFoundError\u001b[0m                       Traceback (most recent call last)",
      "Cell \u001b[1;32mIn[2], line 1\u001b[0m\n\u001b[1;32m----> 1\u001b[0m \u001b[38;5;28;01mimport\u001b[39;00m \u001b[38;5;21;01mPyMAA\u001b[39;00m\n\u001b[0;32m      2\u001b[0m \u001b[38;5;28;01mimport\u001b[39;00m \u001b[38;5;21;01myaml\u001b[39;00m\n\u001b[0;32m      4\u001b[0m \u001b[38;5;66;03m# Load options from configuration file\u001b[39;00m\n",
      "\u001b[1;31mModuleNotFoundError\u001b[0m: No module named 'PyMAA'"
     ]
    }
   ],
   "source": [
    "import PyMAA\n",
    "import yaml\n",
    "\n",
    "# Load options from configuration file\n",
    "with open('guide_example_network\\config.yaml') as f:\n",
    "    config = yaml.safe_load(f)\n",
    "    \n",
    "# Load network\n",
    "network_path = 'guide_example_network\\example_3-bus_network.nc'"
   ]
  },
  {
   "cell_type": "markdown",
   "id": "8d538cf7",
   "metadata": {},
   "source": [
    "### Set up MAA options\n",
    "Set the number of boundary points to find, and the components in the system to explore (MAA variables).\n",
    "Note that as the amount of MAA variables (dimensions) increase, you need at least 2 times the amount of MAA variables to find the minimum and maximum for each variable, and much more to find most of the near-optimal space. \n",
    "The MAA variable definitions are stored in a dictionary, with a list entry for each variable, in the form:\n",
    "```\n",
    "'Variable name':['Component_type', \n",
    "                ['Carrier1', 'Carrier2', ..., 'CarrierN'],\n",
    "                'Attribute_to_explore' ]\n",
    "\n",
    "Such as:\n",
    "'Renewables':['Generator', \n",
    "             ['wind', 'solar', 'hydro'], \n",
    "             'p_nom' ]\n",
    "```\n",
    "Looking at the example, the MAA variable is defined by finding all Generators with the wind, solar or hydro carriers. The atttribute to explore is set to p_nom, so the possible near-optimal nominal capacities for this group of technologies will be explored. "
   ]
  },
  {
   "cell_type": "code",
   "execution_count": 2,
   "id": "25698d33",
   "metadata": {},
   "outputs": [],
   "source": [
    "# Number of points to find on the boundary of the near-optimal space\n",
    "n_boundary_points = 16\n",
    "\n",
    "# Set MAA variables to explore\n",
    "variables = {'x1': ['Generator', # Component type\n",
    "                   ['wind'],     # Carrier(s)\n",
    "                    'p_nom',],    # Component attribute to explore\n",
    "             \n",
    "             'x2': ['Generator',\n",
    "                   ['coal'],\n",
    "                    'p_nom',],\n",
    "             \n",
    "             'x3': ['Generator', \n",
    "                   ['solar'],\n",
    "                    'p_nom',],\n",
    "             } "
   ]
  },
  {
   "cell_type": "markdown",
   "id": "2980080b",
   "metadata": {},
   "source": [
    "### Build PyMAA case object\n",
    "The pypsa network must be turned into a ```case``` object for PyMGA. This is done using the ```PyPSA_to_case()``` method. This is where all PyPSA-specific inputs are provided. ```PyPSA_to_case()``` needs the following inputs:\n",
    "\n",
    "|             |              |\n",
    "|-------------|:-------------|\n",
    "|**config**       | The config file with solver options |\n",
    "|**network_path** | The path to the .nc PyPSA network file. |\n",
    "|**variables**    | Dict of variables |\n",
    "| **mga_slack**   | Allowed slack to explore the near-optimal space |\n"
   ]
  },
  {
   "cell_type": "code",
   "execution_count": 3,
   "id": "42454a88",
   "metadata": {},
   "outputs": [],
   "source": [
    "# PyMAA: Build case from PyPSA network\n",
    "case = PyMAA.cases.PyPSA_to_case(config, \n",
    "                                 network_path,\n",
    "                                 variables = variables,\n",
    "                                 mga_slack = 0.1,\n",
    "                                 )"
   ]
  },
  {
   "cell_type": "markdown",
   "id": "32eae25e",
   "metadata": {},
   "source": [
    "### Running the MAA analysis\n",
    "To run the MAA analysis, an MAA method must be chosen. The available methods are:\n",
    "* **MAA**: Find the near-optimal space by calculating the ConvexHull and searching in face-normal directions. Do not use above 8-9 dimensions, ConvexHull cannot handle it.\n",
    "* **bMAA**: Find the near-optimal space by representing it as a combination of hyperplanes. Samples outer hull to identify search direction. Can be used in any number of dimensions.\n",
    "* **MGA**: Find the near-optimal space by taking a random search direction. (Not recommended)\n",
    "\n",
    "Using the chosen method, the ```case``` object is used to construct the ```method``` object. The ```find_optimum()``` method of the ```method``` object must be called to solve the optimum system. This returns the optimal solution, the objective value and the solved PyPSA network.\n",
    "\n",
    "With the optimum solved, the ```search_directions()``` method of the ```method``` object can be called, to perform the MAA analysis. Here, the number of bonudary points to find is defined via ```n_samples```, and the amount of CPU threads to use is set via ```n_workers```. \n",
    "```search_directions()``` returns the vertices of the near-optimal space, as well as each direction associated with each vertex. "
   ]
  },
  {
   "cell_type": "code",
   "execution_count": null,
   "id": "183df40d",
   "metadata": {},
   "outputs": [],
   "source": [
    "# PyMAA: Choose MAA method\n",
    "method = PyMAA.methods.bMAA(case) \n",
    "# method = PyMAA.methods.MAA(case) \n",
    "# method = PyMAA.methods.MGA(case) \n",
    "\n",
    "# PyMAA: Solve optimal system\n",
    "opt_sol, obj, n_solved = method.find_optimum()\n",
    "\n",
    "# PyMAA: Search near-optimal space using chosen method\n",
    "vertices, directions, _, _ = method.search_directions(n_samples = n_boundary_points,\n",
    "                                                       n_workers = 16)"
   ]
  },
  {
   "cell_type": "markdown",
   "id": "818aaa68",
   "metadata": {},
   "source": [
    "### Sampling the near-optimal space\n",
    "Sampling the near-optimal space is one of the main strenghts of MAA. For this example system, 1 million near-optimal systems can be obtained quickly, all of which are feasible and with 10% or less increase in objective function value. \n",
    "\n",
    "To sample the near-optimal space, the following samplers are available:\n",
    "* **Bayesian Bootstrap sampler**: Uses ConvexHull to compute simplexes and sample evenly. Very fast, but does not work above 8-9 dimensions.\n",
    "* **Hit-and-run sampler**: Uses hyperplanes as boundaries and samples between them. Slower, but works in any dimensions. \n",
    "\n",
    "As this example is low-dimensional, the bayesian sampler is used."
   ]
  },
  {
   "cell_type": "code",
   "execution_count": 5,
   "id": "454354e6",
   "metadata": {},
   "outputs": [],
   "source": [
    "# PyMAA: Sample the near-optimal space\n",
    "\n",
    "# Bayesian bootstrap sampler, good up to around 8 dimensions\n",
    "samples = PyMAA.sampler.bayesian_sample(1_000_000, vertices) \n",
    "\n",
    "# Hit-and-Run sampler, slower but works in any dimensions.\n",
    "# samples = PyMAA.sampler.har_sample(1_000_000, x0 = np.zeros(len(variables.keys())), \n",
    "#                                    directions = directions, verticies = vertices)\n"
   ]
  },
  {
   "cell_type": "markdown",
   "id": "50285ebe",
   "metadata": {},
   "source": [
    "### OPTIONAL: Calculating the Chebyshev Center\n",
    "The chebyshev center is the center of the largest inscribed ball within the near-optimal space. PyMAA has the ```calculate_cheb``` function for calculating the Chebyshev center. For low-dimension cases (<=7), it is calculated with the more accurate ConvexHull, for high-dimension cases (>7) it uses less accurate hyperplanes. It just takes the vertices and directions as input, and returns the Chebyshev center and radius."
   ]
  },
  {
   "cell_type": "code",
   "execution_count": 6,
   "id": "ffe406d8",
   "metadata": {},
   "outputs": [],
   "source": [
    "from PyMAA.utilities.general import calculate_cheb\n",
    "cheb_center, cheb_radius = calculate_cheb(vertices, directions)"
   ]
  },
  {
   "cell_type": "markdown",
   "id": "75626d11",
   "metadata": {},
   "source": [
    "### OPTIONAL: Plotting the near-optimal space\n",
    "PyMAA contains plotting functions to visualize the near-optimal space. \n",
    "\n",
    "**near_optimal_space_matrix**\n",
    "As a potentially high-dimensional polytope, the near-optimal space can be hard to visualize. One way is to use a matrix plot, plotting every dimension against all others. This can be done using the function ```near_optimal_space_matrix()``` from PyMAA.utilities.plot. \n",
    "\n",
    "For ```near_optimal_space_matrix()```, the variable names and vertices are required inputs. Some of the most important inputs include:\n",
    "* **samples**: Pass numpy array of samples from the near-optimal space. This will show the densities in each dimension pari, as well as a distribution for each variable and correlations betwen each dimension pair.\n",
    "* **opt_solution**: Pass list containing the optimal solution coordinates. This will plot the optimal solution, to see where it lies within the near-optimal space. \n",
    "* **cheb_center**: Pass list containing the Chebyshev Center coordinates. This will plot the chebyshev center, for comparison.\n",
    "* **plot_vertices**: If True, will plot the vertices on the boundaries of the near-optimal space. \n",
    "* **plot_boundary**: If False, will not plot the boundary. Useful if you have a sample cloud.  \n",
    "* **filename**: Pass a filename string ending in .pdf to save plot.\n",
    "\n",
    "**near_optimal_space_slice**\n",
    "While the matrix plot is useful, it can quickly become cluttered. When focusing on just one of the many dimension pairs, the function ```near_optimal_space_slice()``` is useful. This shows the \"d projection of the near-optimal space of a chosen dimension pair, along with their distributions. \n",
    "\n",
    "For ```near_optimal_space_slice()```, the required inputs are all the variable names, the names of the chosen variables, the vertices and the samples. Optional inputs are opt_solution, cheb_center and filename, which works as in the matrix plot. "
   ]
  },
  {
   "cell_type": "markdown",
   "id": "52e8e5fc",
   "metadata": {},
   "source": [
    "**Plotting a slice of the near-optimal space:**"
   ]
  },
  {
   "cell_type": "code",
   "execution_count": null,
   "id": "16c23df5",
   "metadata": {},
   "outputs": [],
   "source": [
    "from PyMAA.utilities.plot import near_optimal_space_slice\n",
    "\n",
    "# The near-optimal space slice plot\n",
    "near_optimal_space_slice(all_variables = list(variables.keys()), \n",
    "                         chosen_variables = ['x1', 'x2'], \n",
    "                         vertices = vertices, \n",
    "                         samples = samples,\n",
    "                         opt_solution = opt_sol,\n",
    "                         )"
   ]
  },
  {
   "cell_type": "markdown",
   "id": "7de1eb59",
   "metadata": {},
   "source": [
    "**Plotting the entire near-optimal space matrix:**"
   ]
  },
  {
   "cell_type": "code",
   "execution_count": null,
   "id": "3832f8bf",
   "metadata": {},
   "outputs": [],
   "source": [
    "from PyMAA.utilities.plot import near_optimal_space_matrix\n",
    "\n",
    "# The full near-optimal space matrix\n",
    "ax, fig = near_optimal_space_matrix(variables = list(variables.keys()), \n",
    "                                    vertices = vertices,\n",
    "                                    samples = samples,\n",
    "                                    opt_solution = opt_sol,\n",
    "                                    cheb_center = cheb_center,\n",
    "                                    plot_boundary = False,\n",
    "                                    )"
   ]
  },
  {
   "cell_type": "code",
   "execution_count": null,
   "id": "2c0e60c6",
   "metadata": {},
   "outputs": [],
   "source": []
  }
 ],
 "metadata": {
  "kernelspec": {
   "display_name": "Python 3 (ipykernel)",
   "language": "python",
   "name": "python3"
  },
  "language_info": {
   "codemirror_mode": {
    "name": "ipython",
    "version": 3
   },
   "file_extension": ".py",
   "mimetype": "text/x-python",
   "name": "python",
   "nbconvert_exporter": "python",
   "pygments_lexer": "ipython3",
   "version": "3.11.4"
  }
 },
 "nbformat": 4,
 "nbformat_minor": 5
}
